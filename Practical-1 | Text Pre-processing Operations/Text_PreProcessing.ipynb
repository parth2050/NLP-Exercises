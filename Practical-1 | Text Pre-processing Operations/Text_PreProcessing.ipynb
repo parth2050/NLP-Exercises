{
 "cells": [
  {
   "cell_type": "code",
   "execution_count": 14,
   "id": "7c3d623d",
   "metadata": {},
   "outputs": [],
   "source": [
    "import numpy as np\n",
    "import pandas as pd\n",
    "import matplotlib.pyplot as plt\n",
    "import seaborn as sns\n",
    "import re"
   ]
  },
  {
   "cell_type": "code",
   "execution_count": 15,
   "id": "0bd0fee5",
   "metadata": {},
   "outputs": [],
   "source": [
    "data = pd.read_csv(\"Amazon_Unlocked_Mobile.csv\")"
   ]
  },
  {
   "cell_type": "code",
   "execution_count": 16,
   "id": "93607be1",
   "metadata": {},
   "outputs": [
    {
     "data": {
      "text/plain": [
       "Product Name        0\n",
       "Brand Name      65171\n",
       "Price            5933\n",
       "Rating              0\n",
       "Reviews            62\n",
       "Review Votes    12296\n",
       "dtype: int64"
      ]
     },
     "execution_count": 16,
     "metadata": {},
     "output_type": "execute_result"
    }
   ],
   "source": [
    "data.isna().sum()"
   ]
  },
  {
   "cell_type": "code",
   "execution_count": 17,
   "id": "f31e81fd",
   "metadata": {},
   "outputs": [
    {
     "data": {
      "text/plain": [
       "Rating     0\n",
       "Reviews    0\n",
       "dtype: int64"
      ]
     },
     "execution_count": 17,
     "metadata": {},
     "output_type": "execute_result"
    }
   ],
   "source": [
    "data = data[['Rating', 'Reviews']]\n",
    "data.dropna(inplace=True)\n",
    "data.isna().sum()"
   ]
  },
  {
   "cell_type": "code",
   "execution_count": 18,
   "id": "ec4c00d8",
   "metadata": {},
   "outputs": [],
   "source": [
    "def label(rating):\n",
    "    if rating >=4:\n",
    "        return 'Positive'\n",
    "    elif rating >=4:\n",
    "        return 'Negative'\n",
    "    else:\n",
    "        return 'Neutral'\n",
    "    \n",
    "data['Label'] = data['Rating'].apply(label)"
   ]
  },
  {
   "cell_type": "code",
   "execution_count": 19,
   "id": "0fd8dc72",
   "metadata": {},
   "outputs": [
    {
     "data": {
      "text/html": [
       "<div>\n",
       "<style scoped>\n",
       "    .dataframe tbody tr th:only-of-type {\n",
       "        vertical-align: middle;\n",
       "    }\n",
       "\n",
       "    .dataframe tbody tr th {\n",
       "        vertical-align: top;\n",
       "    }\n",
       "\n",
       "    .dataframe thead th {\n",
       "        text-align: right;\n",
       "    }\n",
       "</style>\n",
       "<table border=\"1\" class=\"dataframe\">\n",
       "  <thead>\n",
       "    <tr style=\"text-align: right;\">\n",
       "      <th></th>\n",
       "      <th>Rating</th>\n",
       "      <th>Reviews</th>\n",
       "      <th>Label</th>\n",
       "    </tr>\n",
       "  </thead>\n",
       "  <tbody>\n",
       "    <tr>\n",
       "      <th>0</th>\n",
       "      <td>5</td>\n",
       "      <td>I feel so LUCKY to have found this used (phone...</td>\n",
       "      <td>Positive</td>\n",
       "    </tr>\n",
       "    <tr>\n",
       "      <th>1</th>\n",
       "      <td>4</td>\n",
       "      <td>nice phone, nice up grade from my pantach revu...</td>\n",
       "      <td>Positive</td>\n",
       "    </tr>\n",
       "    <tr>\n",
       "      <th>2</th>\n",
       "      <td>5</td>\n",
       "      <td>Very pleased</td>\n",
       "      <td>Positive</td>\n",
       "    </tr>\n",
       "    <tr>\n",
       "      <th>3</th>\n",
       "      <td>4</td>\n",
       "      <td>It works good but it goes slow sometimes but i...</td>\n",
       "      <td>Positive</td>\n",
       "    </tr>\n",
       "    <tr>\n",
       "      <th>4</th>\n",
       "      <td>4</td>\n",
       "      <td>Great phone to replace my lost phone. The only...</td>\n",
       "      <td>Positive</td>\n",
       "    </tr>\n",
       "    <tr>\n",
       "      <th>5</th>\n",
       "      <td>1</td>\n",
       "      <td>I already had a phone with problems... I know ...</td>\n",
       "      <td>Neutral</td>\n",
       "    </tr>\n",
       "    <tr>\n",
       "      <th>6</th>\n",
       "      <td>2</td>\n",
       "      <td>The charging port was loose. I got that solder...</td>\n",
       "      <td>Neutral</td>\n",
       "    </tr>\n",
       "    <tr>\n",
       "      <th>7</th>\n",
       "      <td>2</td>\n",
       "      <td>Phone looks good but wouldn't stay charged, ha...</td>\n",
       "      <td>Neutral</td>\n",
       "    </tr>\n",
       "    <tr>\n",
       "      <th>8</th>\n",
       "      <td>5</td>\n",
       "      <td>I originally was using the Samsung S2 Galaxy f...</td>\n",
       "      <td>Positive</td>\n",
       "    </tr>\n",
       "    <tr>\n",
       "      <th>9</th>\n",
       "      <td>3</td>\n",
       "      <td>It's battery life is great. It's very responsi...</td>\n",
       "      <td>Neutral</td>\n",
       "    </tr>\n",
       "  </tbody>\n",
       "</table>\n",
       "</div>"
      ],
      "text/plain": [
       "   Rating                                            Reviews     Label\n",
       "0       5  I feel so LUCKY to have found this used (phone...  Positive\n",
       "1       4  nice phone, nice up grade from my pantach revu...  Positive\n",
       "2       5                                       Very pleased  Positive\n",
       "3       4  It works good but it goes slow sometimes but i...  Positive\n",
       "4       4  Great phone to replace my lost phone. The only...  Positive\n",
       "5       1  I already had a phone with problems... I know ...   Neutral\n",
       "6       2  The charging port was loose. I got that solder...   Neutral\n",
       "7       2  Phone looks good but wouldn't stay charged, ha...   Neutral\n",
       "8       5  I originally was using the Samsung S2 Galaxy f...  Positive\n",
       "9       3  It's battery life is great. It's very responsi...   Neutral"
      ]
     },
     "execution_count": 19,
     "metadata": {},
     "output_type": "execute_result"
    }
   ],
   "source": [
    "data.head(10)"
   ]
  },
  {
   "cell_type": "markdown",
   "id": "1d95f829",
   "metadata": {},
   "source": [
    "## Text- Pre Processing"
   ]
  },
  {
   "cell_type": "code",
   "execution_count": 20,
   "id": "d76ef6bf",
   "metadata": {},
   "outputs": [
    {
     "data": {
      "text/plain": [
       "'Very pleased'"
      ]
     },
     "execution_count": 20,
     "metadata": {},
     "output_type": "execute_result"
    }
   ],
   "source": [
    "data['Reviews'].iloc[2]"
   ]
  },
  {
   "cell_type": "code",
   "execution_count": 23,
   "id": "44f2ed7a",
   "metadata": {},
   "outputs": [],
   "source": [
    "def clean_url(review_text):\n",
    "    return re.sub(r'http\\S+', ' ', review_text)\n",
    "\n",
    "data['CleanReview'] = data['Reviews'].apply(clean_url)"
   ]
  },
  {
   "cell_type": "code",
   "execution_count": 24,
   "id": "db45720d",
   "metadata": {},
   "outputs": [],
   "source": [
    "# Removing Punctuations and Unwanted numbers or characters\n",
    "def clean_pun(review_text):\n",
    "    return re.sub('[^a-zA-Z]',' ',review_text)\n",
    "\n",
    "data['CleanReview'] = data['CleanReview'].apply(clean_pun)"
   ]
  },
  {
   "cell_type": "code",
   "execution_count": 25,
   "id": "04e77a2e",
   "metadata": {},
   "outputs": [],
   "source": [
    "# Converting Lower Case\n",
    "def clean_case(review_text):\n",
    "    return str(review_text).lower()\n",
    "\n",
    "data['CleanReview'] = data['CleanReview'].apply(clean_case)"
   ]
  },
  {
   "cell_type": "code",
   "execution_count": 26,
   "id": "a567e0f2",
   "metadata": {},
   "outputs": [],
   "source": [
    "# Tokenization Process\n",
    "import nltk\n",
    "from nltk.tokenize import word_tokenize\n",
    "\n",
    "def clean_token(review_text):\n",
    "    return word_tokenize(review_text)\n",
    "\n",
    "data['CleanReview'] = data['CleanReview'].apply(clean_token)"
   ]
  },
  {
   "cell_type": "code",
   "execution_count": 27,
   "id": "5835f9d8",
   "metadata": {},
   "outputs": [
    {
     "data": {
      "text/html": [
       "<div>\n",
       "<style scoped>\n",
       "    .dataframe tbody tr th:only-of-type {\n",
       "        vertical-align: middle;\n",
       "    }\n",
       "\n",
       "    .dataframe tbody tr th {\n",
       "        vertical-align: top;\n",
       "    }\n",
       "\n",
       "    .dataframe thead th {\n",
       "        text-align: right;\n",
       "    }\n",
       "</style>\n",
       "<table border=\"1\" class=\"dataframe\">\n",
       "  <thead>\n",
       "    <tr style=\"text-align: right;\">\n",
       "      <th></th>\n",
       "      <th>Rating</th>\n",
       "      <th>Reviews</th>\n",
       "      <th>Label</th>\n",
       "      <th>CleanReview</th>\n",
       "    </tr>\n",
       "  </thead>\n",
       "  <tbody>\n",
       "    <tr>\n",
       "      <th>0</th>\n",
       "      <td>5</td>\n",
       "      <td>I feel so LUCKY to have found this used (phone...</td>\n",
       "      <td>Positive</td>\n",
       "      <td>[i, feel, so, lucky, to, have, found, this, us...</td>\n",
       "    </tr>\n",
       "    <tr>\n",
       "      <th>1</th>\n",
       "      <td>4</td>\n",
       "      <td>nice phone, nice up grade from my pantach revu...</td>\n",
       "      <td>Positive</td>\n",
       "      <td>[nice, phone, nice, up, grade, from, my, panta...</td>\n",
       "    </tr>\n",
       "    <tr>\n",
       "      <th>2</th>\n",
       "      <td>5</td>\n",
       "      <td>Very pleased</td>\n",
       "      <td>Positive</td>\n",
       "      <td>[very, pleased]</td>\n",
       "    </tr>\n",
       "    <tr>\n",
       "      <th>3</th>\n",
       "      <td>4</td>\n",
       "      <td>It works good but it goes slow sometimes but i...</td>\n",
       "      <td>Positive</td>\n",
       "      <td>[it, works, good, but, it, goes, slow, sometim...</td>\n",
       "    </tr>\n",
       "    <tr>\n",
       "      <th>4</th>\n",
       "      <td>4</td>\n",
       "      <td>Great phone to replace my lost phone. The only...</td>\n",
       "      <td>Positive</td>\n",
       "      <td>[great, phone, to, replace, my, lost, phone, t...</td>\n",
       "    </tr>\n",
       "  </tbody>\n",
       "</table>\n",
       "</div>"
      ],
      "text/plain": [
       "   Rating                                            Reviews     Label  \\\n",
       "0       5  I feel so LUCKY to have found this used (phone...  Positive   \n",
       "1       4  nice phone, nice up grade from my pantach revu...  Positive   \n",
       "2       5                                       Very pleased  Positive   \n",
       "3       4  It works good but it goes slow sometimes but i...  Positive   \n",
       "4       4  Great phone to replace my lost phone. The only...  Positive   \n",
       "\n",
       "                                         CleanReview  \n",
       "0  [i, feel, so, lucky, to, have, found, this, us...  \n",
       "1  [nice, phone, nice, up, grade, from, my, panta...  \n",
       "2                                    [very, pleased]  \n",
       "3  [it, works, good, but, it, goes, slow, sometim...  \n",
       "4  [great, phone, to, replace, my, lost, phone, t...  "
      ]
     },
     "execution_count": 27,
     "metadata": {},
     "output_type": "execute_result"
    }
   ],
   "source": [
    "data.head(5)"
   ]
  },
  {
   "cell_type": "code",
   "execution_count": 30,
   "id": "8a28d5ee",
   "metadata": {},
   "outputs": [],
   "source": [
    "# Removing Stopword\n",
    "from nltk.corpus import stopwords\n",
    "stop_words = set(stopwords.words('english'))\n",
    "\n",
    "def clean_words(tokens):\n",
    "    return [i for i in tokens if i not in stop_words]\n",
    "\n",
    "data['CleanReview'] = data['CleanReview'].apply(clean_words)"
   ]
  },
  {
   "cell_type": "code",
   "execution_count": 31,
   "id": "58ec3530",
   "metadata": {},
   "outputs": [],
   "source": [
    "# Stemming & Lemmatization\n",
    "from nltk.stem import PorterStemmer\n",
    "\n",
    "stemmer = PorterStemmer()\n",
    "\n",
    "# STEMMING\n",
    "def clean_stem(tokens):\n",
    "    return [stemmer.stem(i) for i in tokens]\n",
    "\n",
    "data['CleanReview'] = data['CleanReview'].apply(clean_stem)"
   ]
  },
  {
   "cell_type": "code",
   "execution_count": 32,
   "id": "065e20d3",
   "metadata": {},
   "outputs": [],
   "source": [
    "# LEMMATIZATION\n",
    "from nltk.stem import WordNetLemmatizer\n",
    "\n",
    "lemmer = WordNetLemmatizer()\n",
    "\n",
    "# STEMMING\n",
    "def clean_lemm(tokens):\n",
    "    return [lemmer.lemmatize(word=i, pos='v') for i in tokens]\n",
    "\n",
    "data['CleanReview'] = data['CleanReview'].apply(clean_lemm)"
   ]
  },
  {
   "cell_type": "code",
   "execution_count": 33,
   "id": "07b2972e",
   "metadata": {},
   "outputs": [
    {
     "data": {
      "text/html": [
       "<div>\n",
       "<style scoped>\n",
       "    .dataframe tbody tr th:only-of-type {\n",
       "        vertical-align: middle;\n",
       "    }\n",
       "\n",
       "    .dataframe tbody tr th {\n",
       "        vertical-align: top;\n",
       "    }\n",
       "\n",
       "    .dataframe thead th {\n",
       "        text-align: right;\n",
       "    }\n",
       "</style>\n",
       "<table border=\"1\" class=\"dataframe\">\n",
       "  <thead>\n",
       "    <tr style=\"text-align: right;\">\n",
       "      <th></th>\n",
       "      <th>Rating</th>\n",
       "      <th>Reviews</th>\n",
       "      <th>Label</th>\n",
       "      <th>CleanReview</th>\n",
       "    </tr>\n",
       "  </thead>\n",
       "  <tbody>\n",
       "    <tr>\n",
       "      <th>0</th>\n",
       "      <td>5</td>\n",
       "      <td>I feel so LUCKY to have found this used (phone...</td>\n",
       "      <td>Positive</td>\n",
       "      <td>[feel, lucki, find, use, phone, us, use, hard,...</td>\n",
       "    </tr>\n",
       "    <tr>\n",
       "      <th>1</th>\n",
       "      <td>4</td>\n",
       "      <td>nice phone, nice up grade from my pantach revu...</td>\n",
       "      <td>Positive</td>\n",
       "      <td>[nice, phone, nice, grade, pantach, revu, clea...</td>\n",
       "    </tr>\n",
       "    <tr>\n",
       "      <th>2</th>\n",
       "      <td>5</td>\n",
       "      <td>Very pleased</td>\n",
       "      <td>Positive</td>\n",
       "      <td>[pleas]</td>\n",
       "    </tr>\n",
       "    <tr>\n",
       "      <th>3</th>\n",
       "      <td>4</td>\n",
       "      <td>It works good but it goes slow sometimes but i...</td>\n",
       "      <td>Positive</td>\n",
       "      <td>[work, good, goe, slow, sometim, good, phone, ...</td>\n",
       "    </tr>\n",
       "    <tr>\n",
       "      <th>4</th>\n",
       "      <td>4</td>\n",
       "      <td>Great phone to replace my lost phone. The only...</td>\n",
       "      <td>Positive</td>\n",
       "      <td>[great, phone, replac, lose, phone, thing, vol...</td>\n",
       "    </tr>\n",
       "  </tbody>\n",
       "</table>\n",
       "</div>"
      ],
      "text/plain": [
       "   Rating                                            Reviews     Label  \\\n",
       "0       5  I feel so LUCKY to have found this used (phone...  Positive   \n",
       "1       4  nice phone, nice up grade from my pantach revu...  Positive   \n",
       "2       5                                       Very pleased  Positive   \n",
       "3       4  It works good but it goes slow sometimes but i...  Positive   \n",
       "4       4  Great phone to replace my lost phone. The only...  Positive   \n",
       "\n",
       "                                         CleanReview  \n",
       "0  [feel, lucki, find, use, phone, us, use, hard,...  \n",
       "1  [nice, phone, nice, grade, pantach, revu, clea...  \n",
       "2                                            [pleas]  \n",
       "3  [work, good, goe, slow, sometim, good, phone, ...  \n",
       "4  [great, phone, replac, lose, phone, thing, vol...  "
      ]
     },
     "execution_count": 33,
     "metadata": {},
     "output_type": "execute_result"
    }
   ],
   "source": [
    "data.head(5)"
   ]
  }
 ],
 "metadata": {
  "kernelspec": {
   "display_name": "Python 3",
   "language": "python",
   "name": "python3"
  },
  "language_info": {
   "codemirror_mode": {
    "name": "ipython",
    "version": 3
   },
   "file_extension": ".py",
   "mimetype": "text/x-python",
   "name": "python",
   "nbconvert_exporter": "python",
   "pygments_lexer": "ipython3",
   "version": "3.8.8"
  }
 },
 "nbformat": 4,
 "nbformat_minor": 5
}
